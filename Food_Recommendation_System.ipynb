{
  "nbformat": 4,
  "nbformat_minor": 0,
  "metadata": {
    "colab": {
      "name": "Food Recommendation System.ipynb",
      "provenance": [],
      "toc_visible": true
    },
    "kernelspec": {
      "name": "python3",
      "display_name": "Python 3"
    }
  },
  "cells": [
    {
      "cell_type": "markdown",
      "metadata": {
        "id": "M0cPmmEf2soV"
      },
      "source": [
        "# Food Recommendation System"
      ]
    },
    {
      "cell_type": "markdown",
      "metadata": {
        "id": "s4KLVdIc25vz"
      },
      "source": [
        "## Preparation"
      ]
    },
    {
      "cell_type": "markdown",
      "metadata": {
        "id": "zS5N-SNUp0nJ"
      },
      "source": [
        "**Import libary**"
      ]
    },
    {
      "cell_type": "code",
      "metadata": {
        "id": "QTUxOV5kp326"
      },
      "source": [
        "import pandas as pd\n",
        "import numpy as np\n",
        "\n",
        "from sklearn.metrics.pairwise import cosine_similarity"
      ],
      "execution_count": null,
      "outputs": []
    },
    {
      "cell_type": "markdown",
      "metadata": {
        "id": "-mS7XNa3p-5s"
      },
      "source": [
        "**Import data**\n",
        "\n",
        "Make sure that these datasets have already in the same directory as this notebook. For Google Colab users, please upload these datasets to Files.\n",
        "\n",
        "\n",
        "*   foods.csv \n",
        "*   users.csv\n",
        "*   users_foods_.csv\n",
        "\n"
      ]
    },
    {
      "cell_type": "code",
      "metadata": {
        "id": "1MSu21NiqAms"
      },
      "source": [
        "foods = pd.read_csv('foods.csv')\n",
        "users = pd.read_csv('users.csv')\n",
        "users_foods = pd.read_csv('users_foods.csv')"
      ],
      "execution_count": null,
      "outputs": []
    },
    {
      "cell_type": "markdown",
      "metadata": {
        "id": "Hch4OaNM4oWM"
      },
      "source": [
        "Foods dataset shows all foods in the system and the compability to diet types."
      ]
    },
    {
      "cell_type": "code",
      "metadata": {
        "id": "6ZQ8rUMi4mUF",
        "outputId": "ccaed607-68c3-4391-bf7d-7bb15f3e38b3",
        "colab": {
          "base_uri": "https://localhost:8080/",
          "height": 195
        }
      },
      "source": [
        "foods.head()"
      ],
      "execution_count": null,
      "outputs": [
        {
          "output_type": "execute_result",
          "data": {
            "text/html": [
              "<div>\n",
              "<style scoped>\n",
              "    .dataframe tbody tr th:only-of-type {\n",
              "        vertical-align: middle;\n",
              "    }\n",
              "\n",
              "    .dataframe tbody tr th {\n",
              "        vertical-align: top;\n",
              "    }\n",
              "\n",
              "    .dataframe thead th {\n",
              "        text-align: right;\n",
              "    }\n",
              "</style>\n",
              "<table border=\"1\" class=\"dataframe\">\n",
              "  <thead>\n",
              "    <tr style=\"text-align: right;\">\n",
              "      <th></th>\n",
              "      <th>food_id</th>\n",
              "      <th>diet_1</th>\n",
              "      <th>diet_2</th>\n",
              "      <th>diet_3</th>\n",
              "      <th>diet_4</th>\n",
              "      <th>diet_5</th>\n",
              "    </tr>\n",
              "  </thead>\n",
              "  <tbody>\n",
              "    <tr>\n",
              "      <th>0</th>\n",
              "      <td>food_1</td>\n",
              "      <td>0</td>\n",
              "      <td>0</td>\n",
              "      <td>1</td>\n",
              "      <td>1</td>\n",
              "      <td>1</td>\n",
              "    </tr>\n",
              "    <tr>\n",
              "      <th>1</th>\n",
              "      <td>food_2</td>\n",
              "      <td>0</td>\n",
              "      <td>0</td>\n",
              "      <td>1</td>\n",
              "      <td>1</td>\n",
              "      <td>0</td>\n",
              "    </tr>\n",
              "    <tr>\n",
              "      <th>2</th>\n",
              "      <td>food_3</td>\n",
              "      <td>0</td>\n",
              "      <td>0</td>\n",
              "      <td>1</td>\n",
              "      <td>1</td>\n",
              "      <td>1</td>\n",
              "    </tr>\n",
              "    <tr>\n",
              "      <th>3</th>\n",
              "      <td>food_4</td>\n",
              "      <td>0</td>\n",
              "      <td>0</td>\n",
              "      <td>1</td>\n",
              "      <td>0</td>\n",
              "      <td>1</td>\n",
              "    </tr>\n",
              "    <tr>\n",
              "      <th>4</th>\n",
              "      <td>food_5</td>\n",
              "      <td>0</td>\n",
              "      <td>1</td>\n",
              "      <td>0</td>\n",
              "      <td>0</td>\n",
              "      <td>1</td>\n",
              "    </tr>\n",
              "  </tbody>\n",
              "</table>\n",
              "</div>"
            ],
            "text/plain": [
              "  food_id  diet_1  diet_2  diet_3  diet_4  diet_5\n",
              "0  food_1       0       0       1       1       1\n",
              "1  food_2       0       0       1       1       0\n",
              "2  food_3       0       0       1       1       1\n",
              "3  food_4       0       0       1       0       1\n",
              "4  food_5       0       1       0       0       1"
            ]
          },
          "metadata": {
            "tags": []
          },
          "execution_count": 3
        }
      ]
    },
    {
      "cell_type": "markdown",
      "metadata": {
        "id": "Shx21Y7r40qA"
      },
      "source": [
        "Users dataset shows all users in the system and their respective diet type"
      ]
    },
    {
      "cell_type": "code",
      "metadata": {
        "id": "bC63T6jA49bo",
        "outputId": "291a9be6-c18e-4cd8-c664-70a184f939eb",
        "colab": {
          "base_uri": "https://localhost:8080/",
          "height": 195
        }
      },
      "source": [
        "users.head()"
      ],
      "execution_count": null,
      "outputs": [
        {
          "output_type": "execute_result",
          "data": {
            "text/html": [
              "<div>\n",
              "<style scoped>\n",
              "    .dataframe tbody tr th:only-of-type {\n",
              "        vertical-align: middle;\n",
              "    }\n",
              "\n",
              "    .dataframe tbody tr th {\n",
              "        vertical-align: top;\n",
              "    }\n",
              "\n",
              "    .dataframe thead th {\n",
              "        text-align: right;\n",
              "    }\n",
              "</style>\n",
              "<table border=\"1\" class=\"dataframe\">\n",
              "  <thead>\n",
              "    <tr style=\"text-align: right;\">\n",
              "      <th></th>\n",
              "      <th>user_id</th>\n",
              "      <th>diet_type</th>\n",
              "    </tr>\n",
              "  </thead>\n",
              "  <tbody>\n",
              "    <tr>\n",
              "      <th>0</th>\n",
              "      <td>user_1</td>\n",
              "      <td>diet_3</td>\n",
              "    </tr>\n",
              "    <tr>\n",
              "      <th>1</th>\n",
              "      <td>user_2</td>\n",
              "      <td>diet_1</td>\n",
              "    </tr>\n",
              "    <tr>\n",
              "      <th>2</th>\n",
              "      <td>user_3</td>\n",
              "      <td>diet_1</td>\n",
              "    </tr>\n",
              "    <tr>\n",
              "      <th>3</th>\n",
              "      <td>user_4</td>\n",
              "      <td>diet_3</td>\n",
              "    </tr>\n",
              "    <tr>\n",
              "      <th>4</th>\n",
              "      <td>user_5</td>\n",
              "      <td>diet_4</td>\n",
              "    </tr>\n",
              "  </tbody>\n",
              "</table>\n",
              "</div>"
            ],
            "text/plain": [
              "  user_id diet_type\n",
              "0  user_1    diet_3\n",
              "1  user_2    diet_1\n",
              "2  user_3    diet_1\n",
              "3  user_4    diet_3\n",
              "4  user_5    diet_4"
            ]
          },
          "metadata": {
            "tags": []
          },
          "execution_count": 4
        }
      ]
    },
    {
      "cell_type": "markdown",
      "metadata": {
        "id": "SEXCMtfL4_-Q"
      },
      "source": [
        "Users & Foods dataset shows rating that users have given to the foods.\n",
        "\n",
        "Rating 0 means that they didn't give rating.\n",
        "Rating 1 means they don't like the food and rating 5 means they like the food."
      ]
    },
    {
      "cell_type": "code",
      "metadata": {
        "id": "i9Om5KvV5Y35",
        "outputId": "9aa354f9-f727-46cd-abb6-63ef8fb9748b",
        "colab": {
          "base_uri": "https://localhost:8080/",
          "height": 215
        }
      },
      "source": [
        "users_foods.head()"
      ],
      "execution_count": null,
      "outputs": [
        {
          "output_type": "execute_result",
          "data": {
            "text/html": [
              "<div>\n",
              "<style scoped>\n",
              "    .dataframe tbody tr th:only-of-type {\n",
              "        vertical-align: middle;\n",
              "    }\n",
              "\n",
              "    .dataframe tbody tr th {\n",
              "        vertical-align: top;\n",
              "    }\n",
              "\n",
              "    .dataframe thead th {\n",
              "        text-align: right;\n",
              "    }\n",
              "</style>\n",
              "<table border=\"1\" class=\"dataframe\">\n",
              "  <thead>\n",
              "    <tr style=\"text-align: right;\">\n",
              "      <th></th>\n",
              "      <th>user_id</th>\n",
              "      <th>food_1</th>\n",
              "      <th>food_2</th>\n",
              "      <th>food_3</th>\n",
              "      <th>food_4</th>\n",
              "      <th>food_5</th>\n",
              "      <th>food_6</th>\n",
              "      <th>food_7</th>\n",
              "      <th>food_8</th>\n",
              "      <th>food_9</th>\n",
              "      <th>food_10</th>\n",
              "      <th>food_11</th>\n",
              "      <th>food_12</th>\n",
              "      <th>food_13</th>\n",
              "      <th>food_14</th>\n",
              "      <th>food_15</th>\n",
              "      <th>food_16</th>\n",
              "      <th>food_17</th>\n",
              "      <th>food_18</th>\n",
              "      <th>food_19</th>\n",
              "      <th>food_20</th>\n",
              "    </tr>\n",
              "  </thead>\n",
              "  <tbody>\n",
              "    <tr>\n",
              "      <th>0</th>\n",
              "      <td>user_1</td>\n",
              "      <td>0</td>\n",
              "      <td>3</td>\n",
              "      <td>0</td>\n",
              "      <td>5</td>\n",
              "      <td>0</td>\n",
              "      <td>2</td>\n",
              "      <td>2</td>\n",
              "      <td>0</td>\n",
              "      <td>4</td>\n",
              "      <td>3</td>\n",
              "      <td>0</td>\n",
              "      <td>5</td>\n",
              "      <td>0</td>\n",
              "      <td>5</td>\n",
              "      <td>0</td>\n",
              "      <td>4</td>\n",
              "      <td>1</td>\n",
              "      <td>3</td>\n",
              "      <td>0</td>\n",
              "      <td>0</td>\n",
              "    </tr>\n",
              "    <tr>\n",
              "      <th>1</th>\n",
              "      <td>user_2</td>\n",
              "      <td>2</td>\n",
              "      <td>5</td>\n",
              "      <td>3</td>\n",
              "      <td>0</td>\n",
              "      <td>1</td>\n",
              "      <td>0</td>\n",
              "      <td>0</td>\n",
              "      <td>4</td>\n",
              "      <td>5</td>\n",
              "      <td>0</td>\n",
              "      <td>3</td>\n",
              "      <td>0</td>\n",
              "      <td>0</td>\n",
              "      <td>0</td>\n",
              "      <td>2</td>\n",
              "      <td>5</td>\n",
              "      <td>1</td>\n",
              "      <td>5</td>\n",
              "      <td>3</td>\n",
              "      <td>3</td>\n",
              "    </tr>\n",
              "    <tr>\n",
              "      <th>2</th>\n",
              "      <td>user_3</td>\n",
              "      <td>3</td>\n",
              "      <td>0</td>\n",
              "      <td>5</td>\n",
              "      <td>1</td>\n",
              "      <td>5</td>\n",
              "      <td>5</td>\n",
              "      <td>0</td>\n",
              "      <td>3</td>\n",
              "      <td>0</td>\n",
              "      <td>2</td>\n",
              "      <td>0</td>\n",
              "      <td>4</td>\n",
              "      <td>0</td>\n",
              "      <td>0</td>\n",
              "      <td>2</td>\n",
              "      <td>5</td>\n",
              "      <td>3</td>\n",
              "      <td>1</td>\n",
              "      <td>1</td>\n",
              "      <td>0</td>\n",
              "    </tr>\n",
              "    <tr>\n",
              "      <th>3</th>\n",
              "      <td>user_4</td>\n",
              "      <td>5</td>\n",
              "      <td>0</td>\n",
              "      <td>0</td>\n",
              "      <td>4</td>\n",
              "      <td>2</td>\n",
              "      <td>5</td>\n",
              "      <td>0</td>\n",
              "      <td>2</td>\n",
              "      <td>2</td>\n",
              "      <td>3</td>\n",
              "      <td>1</td>\n",
              "      <td>0</td>\n",
              "      <td>0</td>\n",
              "      <td>0</td>\n",
              "      <td>4</td>\n",
              "      <td>3</td>\n",
              "      <td>0</td>\n",
              "      <td>0</td>\n",
              "      <td>4</td>\n",
              "      <td>0</td>\n",
              "    </tr>\n",
              "    <tr>\n",
              "      <th>4</th>\n",
              "      <td>user_5</td>\n",
              "      <td>0</td>\n",
              "      <td>3</td>\n",
              "      <td>4</td>\n",
              "      <td>0</td>\n",
              "      <td>2</td>\n",
              "      <td>5</td>\n",
              "      <td>5</td>\n",
              "      <td>4</td>\n",
              "      <td>1</td>\n",
              "      <td>4</td>\n",
              "      <td>5</td>\n",
              "      <td>0</td>\n",
              "      <td>2</td>\n",
              "      <td>3</td>\n",
              "      <td>0</td>\n",
              "      <td>0</td>\n",
              "      <td>0</td>\n",
              "      <td>2</td>\n",
              "      <td>0</td>\n",
              "      <td>0</td>\n",
              "    </tr>\n",
              "  </tbody>\n",
              "</table>\n",
              "</div>"
            ],
            "text/plain": [
              "  user_id  food_1  food_2  food_3  ...  food_17  food_18  food_19  food_20\n",
              "0  user_1       0       3       0  ...        1        3        0        0\n",
              "1  user_2       2       5       3  ...        1        5        3        3\n",
              "2  user_3       3       0       5  ...        3        1        1        0\n",
              "3  user_4       5       0       0  ...        0        0        4        0\n",
              "4  user_5       0       3       4  ...        0        2        0        0\n",
              "\n",
              "[5 rows x 21 columns]"
            ]
          },
          "metadata": {
            "tags": []
          },
          "execution_count": 5
        }
      ]
    },
    {
      "cell_type": "markdown",
      "metadata": {
        "id": "Wi8ARmlB13yo"
      },
      "source": [
        "## Select user to give recommendation to\n",
        "\n",
        "Please refer to the list below for available user ID(s)."
      ]
    },
    {
      "cell_type": "code",
      "metadata": {
        "id": "AFxekcOk18pU",
        "outputId": "bb6848bc-7422-4e94-e795-e9755e818e77",
        "colab": {
          "base_uri": "https://localhost:8080/"
        }
      },
      "source": [
        "print(list(users['user_id']))"
      ],
      "execution_count": null,
      "outputs": [
        {
          "output_type": "stream",
          "text": [
            "['user_1', 'user_2', 'user_3', 'user_4', 'user_5', 'user_6', 'user_7', 'user_8', 'user_9', 'user_10', 'user_11', 'user_12', 'user_13', 'user_14', 'user_15', 'user_16', 'user_17', 'user_18', 'user_19', 'user_20']\n"
          ],
          "name": "stdout"
        }
      ]
    },
    {
      "cell_type": "markdown",
      "metadata": {
        "id": "GjJgIzAM6Nus"
      },
      "source": [
        "Input exactly 1 user ID to the field below. Don't use singe quote. To avoid misspelling, consider using copy & paste.\n",
        "\n",
        "Run the cell before continuing"
      ]
    },
    {
      "cell_type": "code",
      "metadata": {
        "id": "C0dRELxS2Oxf"
      },
      "source": [
        "#@title Select User\n",
        "user_to_recommend = \"user_18\" #@param {type:\"string\"}\n"
      ],
      "execution_count": null,
      "outputs": []
    },
    {
      "cell_type": "markdown",
      "metadata": {
        "id": "hjgC1ian6gmE"
      },
      "source": [
        "## Prepare food items to recommend\n",
        "\n",
        "**Take rating of foods that selected user has given**"
      ]
    },
    {
      "cell_type": "code",
      "metadata": {
        "id": "yq0ZfvQI2XE2",
        "outputId": "5d3ffa04-b73d-44f8-8842-1a3c3e84578c",
        "colab": {
          "base_uri": "https://localhost:8080/",
          "height": 195
        }
      },
      "source": [
        "foods_rating_by_user = users_foods[users_foods['user_id'] == user_to_recommend].T.reset_index().drop(0)\n",
        "\n",
        "foods_rating_by_user.head()"
      ],
      "execution_count": null,
      "outputs": [
        {
          "output_type": "execute_result",
          "data": {
            "text/html": [
              "<div>\n",
              "<style scoped>\n",
              "    .dataframe tbody tr th:only-of-type {\n",
              "        vertical-align: middle;\n",
              "    }\n",
              "\n",
              "    .dataframe tbody tr th {\n",
              "        vertical-align: top;\n",
              "    }\n",
              "\n",
              "    .dataframe thead th {\n",
              "        text-align: right;\n",
              "    }\n",
              "</style>\n",
              "<table border=\"1\" class=\"dataframe\">\n",
              "  <thead>\n",
              "    <tr style=\"text-align: right;\">\n",
              "      <th></th>\n",
              "      <th>index</th>\n",
              "      <th>17</th>\n",
              "    </tr>\n",
              "  </thead>\n",
              "  <tbody>\n",
              "    <tr>\n",
              "      <th>1</th>\n",
              "      <td>food_1</td>\n",
              "      <td>0</td>\n",
              "    </tr>\n",
              "    <tr>\n",
              "      <th>2</th>\n",
              "      <td>food_2</td>\n",
              "      <td>2</td>\n",
              "    </tr>\n",
              "    <tr>\n",
              "      <th>3</th>\n",
              "      <td>food_3</td>\n",
              "      <td>0</td>\n",
              "    </tr>\n",
              "    <tr>\n",
              "      <th>4</th>\n",
              "      <td>food_4</td>\n",
              "      <td>0</td>\n",
              "    </tr>\n",
              "    <tr>\n",
              "      <th>5</th>\n",
              "      <td>food_5</td>\n",
              "      <td>5</td>\n",
              "    </tr>\n",
              "  </tbody>\n",
              "</table>\n",
              "</div>"
            ],
            "text/plain": [
              "    index 17\n",
              "1  food_1  0\n",
              "2  food_2  2\n",
              "3  food_3  0\n",
              "4  food_4  0\n",
              "5  food_5  5"
            ]
          },
          "metadata": {
            "tags": []
          },
          "execution_count": 14
        }
      ]
    },
    {
      "cell_type": "markdown",
      "metadata": {
        "id": "FjWmUXhx7Xox"
      },
      "source": [
        "**Take food items that selected user likes**\n",
        "\n",
        "We can assume that user likes the food if they give 4 or 5 rating to the food."
      ]
    },
    {
      "cell_type": "markdown",
      "metadata": {
        "id": "SxbMM7sZ4jtY"
      },
      "source": [
        "Food that user have liked:"
      ]
    },
    {
      "cell_type": "code",
      "metadata": {
        "id": "E5IaxkIN5roN",
        "outputId": "87933c83-0829-406c-acb9-15eeba259325",
        "colab": {
          "base_uri": "https://localhost:8080/"
        }
      },
      "source": [
        "user_index = list(users['user_id']).index(user_to_recommend)\n",
        "foods_liked_by_user = list(foods_rating_by_user[foods_rating_by_user[user_index] >= 4]['index'])\n",
        "\n",
        "print(foods_liked_by_user)"
      ],
      "execution_count": null,
      "outputs": [
        {
          "output_type": "stream",
          "text": [
            "['food_5', 'food_8', 'food_9', 'food_12', 'food_14']\n"
          ],
          "name": "stdout"
        }
      ]
    },
    {
      "cell_type": "markdown",
      "metadata": {
        "id": "RTPPErv46vA8"
      },
      "source": [
        "Food that user haven't given rated to:"
      ]
    },
    {
      "cell_type": "code",
      "metadata": {
        "id": "BVAg5gdf6yTV",
        "outputId": "a410930c-d50b-4ad9-e806-4918eeba6af7",
        "colab": {
          "base_uri": "https://localhost:8080/"
        }
      },
      "source": [
        "foods_never_rated = list(foods_rating_by_user[foods_rating_by_user[user_index] == 0]['index'])\n",
        "\n",
        "print(foods_never_rated)"
      ],
      "execution_count": null,
      "outputs": [
        {
          "output_type": "stream",
          "text": [
            "['food_1', 'food_3', 'food_4', 'food_6', 'food_7', 'food_13', 'food_16', 'food_19', 'food_20']\n"
          ],
          "name": "stdout"
        }
      ]
    },
    {
      "cell_type": "markdown",
      "metadata": {
        "id": "pjwNNYFq6_gX"
      },
      "source": [
        "Filter food that user haven't rated by user's diet type"
      ]
    },
    {
      "cell_type": "code",
      "metadata": {
        "id": "to3xu-8p66G_",
        "outputId": "3cb168fe-eba3-4ed1-bd00-885dd19ed6a4",
        "colab": {
          "base_uri": "https://localhost:8080/"
        }
      },
      "source": [
        "user_diet_type = list(users[users['user_id'] == user_to_recommend]['diet_type'])[0]\n",
        "\n",
        "foods_never_rated = foods.set_index('food_id').filter(items=foods_never_rated, axis=0)\n",
        "is_good_for_diet = foods_never_rated[user_diet_type] == 1\n",
        "foods_can_recommend = list(foods_never_rated[is_good_for_diet].reset_index()['food_id'])\n",
        "\n",
        "print(foods_can_recommend)"
      ],
      "execution_count": null,
      "outputs": [
        {
          "output_type": "stream",
          "text": [
            "['food_7', 'food_13', 'food_16', 'food_20']\n"
          ],
          "name": "stdout"
        }
      ]
    },
    {
      "cell_type": "markdown",
      "metadata": {
        "id": "HPVNvXmllHWg"
      },
      "source": [
        "## Count recommendation\n",
        "\n",
        "To count recommendation, we calculate similarity between food items that user has already liked and foods that is possible to be recommended (foods that user hasn't rated and compatible to user's diet type). We use item-based collaborative filtering with cosine similarity algorithm to do this."
      ]
    },
    {
      "cell_type": "code",
      "metadata": {
        "id": "-lKhCwd5lsNy",
        "outputId": "5d286f2f-e86d-46d9-aa7b-1f0a9c0cf1bd",
        "colab": {
          "base_uri": "https://localhost:8080/"
        }
      },
      "source": [
        "recommended_food = {}\n",
        "\n",
        "for food_liked in foods_liked_by_user:\n",
        "    food_liked_array = np.array(list(users_foods[food_liked])).reshape(1, -1)\n",
        "    for food_to_recommend in foods_can_recommend:\n",
        "        food_to_recommend_array = np.array(list(users_foods[food_to_recommend])).reshape(1, -1)\n",
        "        score = cosine_similarity(food_liked_array, food_to_recommend_array)[0][0]\n",
        "        if food_to_recommend in recommended_food:\n",
        "            if (score > recommended_food[food_to_recommend]):\n",
        "                recommended_food[food_to_recommend] = score\n",
        "        else:\n",
        "            recommended_food[food_to_recommend] = score\n",
        "recommended_food = sorted(recommended_food.items(), key=lambda x: x[1], reverse=True)\n",
        "\n",
        "print(recommended_food)"
      ],
      "execution_count": null,
      "outputs": [
        {
          "output_type": "stream",
          "text": [
            "[('food_20', 0.6564215544231429), ('food_13', 0.5735770712514149), ('food_16', 0.5125589535607086), ('food_7', 0.4707565417620042)]\n"
          ],
          "name": "stdout"
        }
      ]
    }
  ]
}